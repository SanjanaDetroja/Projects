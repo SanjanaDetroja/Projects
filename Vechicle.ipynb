{
 "cells": [
  {
   "cell_type": "markdown",
   "id": "be1fdf74",
   "metadata": {},
   "source": [
    "# Group_exercise(23.11.2023)"
   ]
  },
  {
   "cell_type": "markdown",
   "id": "1c730990",
   "metadata": {},
   "source": [
    "# Step 1: Import Libraries"
   ]
  },
  {
   "cell_type": "code",
   "execution_count": 1,
   "id": "197d1b5d",
   "metadata": {},
   "outputs": [],
   "source": [
    "import pandas as pd\n",
    "import numpy as np\n",
    "import matplotlib.pyplot as plt\n",
    "import seaborn as sns"
   ]
  },
  {
   "cell_type": "markdown",
   "id": "58cb1706",
   "metadata": {},
   "source": [
    "# Step 2: Load the Data"
   ]
  },
  {
   "cell_type": "code",
   "execution_count": 2,
   "id": "c2f18bc8",
   "metadata": {},
   "outputs": [],
   "source": [
    "column_subset = [\n",
    "    \"id\",\n",
    "    \"make\",\n",
    "    \"model\",\n",
    "    \"year\",\n",
    "    \"cylinders\",\n",
    "    \"fuelType\",\n",
    "    \"trany\",\n",
    "    \"mpgData\",\n",
    "    \"city08\",\n",
    "    \"highway08\"\n",
    "]\n",
    "data = pd.read_csv(\"/Users/dhineshkumar/Desktop/vehicles.csv\", low_memory=False,usecols = column_subset)"
   ]
  },
  {
   "cell_type": "markdown",
   "id": "68cc4ebf",
   "metadata": {},
   "source": [
    "# Step 3: Explore the Data"
   ]
  },
  {
   "cell_type": "code",
   "execution_count": 3,
   "id": "7d45ea99",
   "metadata": {},
   "outputs": [
    {
     "data": {
      "text/html": [
       "<div>\n",
       "<style scoped>\n",
       "    .dataframe tbody tr th:only-of-type {\n",
       "        vertical-align: middle;\n",
       "    }\n",
       "\n",
       "    .dataframe tbody tr th {\n",
       "        vertical-align: top;\n",
       "    }\n",
       "\n",
       "    .dataframe thead th {\n",
       "        text-align: right;\n",
       "    }\n",
       "</style>\n",
       "<table border=\"1\" class=\"dataframe\">\n",
       "  <thead>\n",
       "    <tr style=\"text-align: right;\">\n",
       "      <th></th>\n",
       "      <th>city08</th>\n",
       "      <th>cylinders</th>\n",
       "      <th>fuelType</th>\n",
       "      <th>highway08</th>\n",
       "      <th>id</th>\n",
       "      <th>make</th>\n",
       "      <th>model</th>\n",
       "      <th>mpgData</th>\n",
       "      <th>trany</th>\n",
       "      <th>year</th>\n",
       "    </tr>\n",
       "  </thead>\n",
       "  <tbody>\n",
       "    <tr>\n",
       "      <th>0</th>\n",
       "      <td>19</td>\n",
       "      <td>4.0</td>\n",
       "      <td>Regular</td>\n",
       "      <td>25</td>\n",
       "      <td>1</td>\n",
       "      <td>Alfa Romeo</td>\n",
       "      <td>Spider Veloce 2000</td>\n",
       "      <td>Y</td>\n",
       "      <td>Manual 5-spd</td>\n",
       "      <td>1985</td>\n",
       "    </tr>\n",
       "    <tr>\n",
       "      <th>1</th>\n",
       "      <td>9</td>\n",
       "      <td>12.0</td>\n",
       "      <td>Regular</td>\n",
       "      <td>14</td>\n",
       "      <td>10</td>\n",
       "      <td>Ferrari</td>\n",
       "      <td>Testarossa</td>\n",
       "      <td>N</td>\n",
       "      <td>Manual 5-spd</td>\n",
       "      <td>1985</td>\n",
       "    </tr>\n",
       "    <tr>\n",
       "      <th>2</th>\n",
       "      <td>23</td>\n",
       "      <td>4.0</td>\n",
       "      <td>Regular</td>\n",
       "      <td>33</td>\n",
       "      <td>100</td>\n",
       "      <td>Dodge</td>\n",
       "      <td>Charger</td>\n",
       "      <td>Y</td>\n",
       "      <td>Manual 5-spd</td>\n",
       "      <td>1985</td>\n",
       "    </tr>\n",
       "  </tbody>\n",
       "</table>\n",
       "</div>"
      ],
      "text/plain": [
       "   city08  cylinders fuelType  highway08   id        make               model  \\\n",
       "0      19        4.0  Regular         25    1  Alfa Romeo  Spider Veloce 2000   \n",
       "1       9       12.0  Regular         14   10     Ferrari          Testarossa   \n",
       "2      23        4.0  Regular         33  100       Dodge             Charger   \n",
       "\n",
       "  mpgData         trany  year  \n",
       "0       Y  Manual 5-spd  1985  \n",
       "1       N  Manual 5-spd  1985  \n",
       "2       Y  Manual 5-spd  1985  "
      ]
     },
     "execution_count": 3,
     "metadata": {},
     "output_type": "execute_result"
    }
   ],
   "source": [
    "# Displaying first 3 rows:\n",
    "data.head(3)"
   ]
  },
  {
   "cell_type": "code",
   "execution_count": 4,
   "id": "b6d98d64",
   "metadata": {},
   "outputs": [
    {
     "data": {
      "text/html": [
       "<div>\n",
       "<style scoped>\n",
       "    .dataframe tbody tr th:only-of-type {\n",
       "        vertical-align: middle;\n",
       "    }\n",
       "\n",
       "    .dataframe tbody tr th {\n",
       "        vertical-align: top;\n",
       "    }\n",
       "\n",
       "    .dataframe thead th {\n",
       "        text-align: right;\n",
       "    }\n",
       "</style>\n",
       "<table border=\"1\" class=\"dataframe\">\n",
       "  <thead>\n",
       "    <tr style=\"text-align: right;\">\n",
       "      <th></th>\n",
       "      <th>city08</th>\n",
       "      <th>cylinders</th>\n",
       "      <th>fuelType</th>\n",
       "      <th>highway08</th>\n",
       "      <th>id</th>\n",
       "      <th>make</th>\n",
       "      <th>model</th>\n",
       "      <th>mpgData</th>\n",
       "      <th>trany</th>\n",
       "      <th>year</th>\n",
       "    </tr>\n",
       "  </thead>\n",
       "  <tbody>\n",
       "    <tr>\n",
       "      <th>46836</th>\n",
       "      <td>18</td>\n",
       "      <td>4.0</td>\n",
       "      <td>Regular</td>\n",
       "      <td>24</td>\n",
       "      <td>9997</td>\n",
       "      <td>Subaru</td>\n",
       "      <td>Legacy AWD</td>\n",
       "      <td>Y</td>\n",
       "      <td>Automatic 4-spd</td>\n",
       "      <td>1993</td>\n",
       "    </tr>\n",
       "    <tr>\n",
       "      <th>46837</th>\n",
       "      <td>18</td>\n",
       "      <td>4.0</td>\n",
       "      <td>Regular</td>\n",
       "      <td>24</td>\n",
       "      <td>9998</td>\n",
       "      <td>Subaru</td>\n",
       "      <td>Legacy AWD</td>\n",
       "      <td>Y</td>\n",
       "      <td>Manual 5-spd</td>\n",
       "      <td>1993</td>\n",
       "    </tr>\n",
       "    <tr>\n",
       "      <th>46838</th>\n",
       "      <td>16</td>\n",
       "      <td>4.0</td>\n",
       "      <td>Premium</td>\n",
       "      <td>21</td>\n",
       "      <td>9999</td>\n",
       "      <td>Subaru</td>\n",
       "      <td>Legacy AWD Turbo</td>\n",
       "      <td>N</td>\n",
       "      <td>Automatic 4-spd</td>\n",
       "      <td>1993</td>\n",
       "    </tr>\n",
       "  </tbody>\n",
       "</table>\n",
       "</div>"
      ],
      "text/plain": [
       "       city08  cylinders fuelType  highway08    id    make             model  \\\n",
       "46836      18        4.0  Regular         24  9997  Subaru        Legacy AWD   \n",
       "46837      18        4.0  Regular         24  9998  Subaru        Legacy AWD   \n",
       "46838      16        4.0  Premium         21  9999  Subaru  Legacy AWD Turbo   \n",
       "\n",
       "      mpgData            trany  year  \n",
       "46836       Y  Automatic 4-spd  1993  \n",
       "46837       Y     Manual 5-spd  1993  \n",
       "46838       N  Automatic 4-spd  1993  "
      ]
     },
     "execution_count": 4,
     "metadata": {},
     "output_type": "execute_result"
    }
   ],
   "source": [
    "# displaying last 3 rows\n",
    "data.tail(3)"
   ]
  },
  {
   "cell_type": "code",
   "execution_count": 5,
   "id": "4c30f945",
   "metadata": {},
   "outputs": [
    {
     "data": {
      "text/plain": [
       "(46839, 10)"
      ]
     },
     "execution_count": 5,
     "metadata": {},
     "output_type": "execute_result"
    }
   ],
   "source": [
    "# No of rows and columns:\n",
    "data.shape"
   ]
  },
  {
   "cell_type": "code",
   "execution_count": 6,
   "id": "52373238",
   "metadata": {},
   "outputs": [
    {
     "data": {
      "text/plain": [
       "Index(['city08', 'cylinders', 'fuelType', 'highway08', 'id', 'make', 'model',\n",
       "       'mpgData', 'trany', 'year'],\n",
       "      dtype='object')"
      ]
     },
     "execution_count": 6,
     "metadata": {},
     "output_type": "execute_result"
    }
   ],
   "source": [
    "# checking what are the columns available in dataframe:\n",
    "data.columns"
   ]
  },
  {
   "cell_type": "code",
   "execution_count": 7,
   "id": "847683dd",
   "metadata": {},
   "outputs": [
    {
     "name": "stdout",
     "output_type": "stream",
     "text": [
      "<class 'pandas.core.frame.DataFrame'>\n",
      "RangeIndex: 46839 entries, 0 to 46838\n",
      "Data columns (total 10 columns):\n",
      " #   Column     Non-Null Count  Dtype  \n",
      "---  ------     --------------  -----  \n",
      " 0   city08     46839 non-null  int64  \n",
      " 1   cylinders  46236 non-null  float64\n",
      " 2   fuelType   46839 non-null  object \n",
      " 3   highway08  46839 non-null  int64  \n",
      " 4   id         46839 non-null  int64  \n",
      " 5   make       46839 non-null  object \n",
      " 6   model      46839 non-null  object \n",
      " 7   mpgData    46837 non-null  object \n",
      " 8   trany      46828 non-null  object \n",
      " 9   year       46839 non-null  int64  \n",
      "dtypes: float64(1), int64(4), object(5)\n",
      "memory usage: 3.6+ MB\n"
     ]
    }
   ],
   "source": [
    "# getting general info\n",
    "data.info()"
   ]
  },
  {
   "cell_type": "markdown",
   "id": "5338736f",
   "metadata": {},
   "source": [
    "# Step 4: Data Cleaning"
   ]
  },
  {
   "cell_type": "code",
   "execution_count": 8,
   "id": "fad6e063",
   "metadata": {},
   "outputs": [
    {
     "name": "stdout",
     "output_type": "stream",
     "text": [
      "city08         0\n",
      "cylinders    603\n",
      "fuelType       0\n",
      "highway08      0\n",
      "id             0\n",
      "make           0\n",
      "model          0\n",
      "mpgData        2\n",
      "trany         11\n",
      "year           0\n",
      "dtype: int64\n"
     ]
    }
   ],
   "source": [
    "#Identifying missing values\n",
    "\n",
    "print(data.isnull().sum())"
   ]
  },
  {
   "cell_type": "code",
   "execution_count": 9,
   "id": "bc9ca099",
   "metadata": {},
   "outputs": [],
   "source": [
    "# droping all Null values\n",
    "data.dropna(inplace=True)"
   ]
  },
  {
   "cell_type": "code",
   "execution_count": 10,
   "id": "ef09645e",
   "metadata": {},
   "outputs": [
    {
     "name": "stdout",
     "output_type": "stream",
     "text": [
      "city08       0\n",
      "cylinders    0\n",
      "fuelType     0\n",
      "highway08    0\n",
      "id           0\n",
      "make         0\n",
      "model        0\n",
      "mpgData      0\n",
      "trany        0\n",
      "year         0\n",
      "dtype: int64\n"
     ]
    }
   ],
   "source": [
    "# checking for missing values\n",
    "print(data.isnull().sum())"
   ]
  },
  {
   "cell_type": "markdown",
   "id": "4f90b102",
   "metadata": {},
   "source": [
    "# Step 5: Data Exploration"
   ]
  },
  {
   "cell_type": "code",
   "execution_count": 11,
   "id": "747e5cca",
   "metadata": {},
   "outputs": [
    {
     "data": {
      "text/html": [
       "<div>\n",
       "<style scoped>\n",
       "    .dataframe tbody tr th:only-of-type {\n",
       "        vertical-align: middle;\n",
       "    }\n",
       "\n",
       "    .dataframe tbody tr th {\n",
       "        vertical-align: top;\n",
       "    }\n",
       "\n",
       "    .dataframe thead th {\n",
       "        text-align: right;\n",
       "    }\n",
       "</style>\n",
       "<table border=\"1\" class=\"dataframe\">\n",
       "  <thead>\n",
       "    <tr style=\"text-align: right;\">\n",
       "      <th></th>\n",
       "      <th>city08</th>\n",
       "      <th>cylinders</th>\n",
       "      <th>highway08</th>\n",
       "      <th>id</th>\n",
       "      <th>year</th>\n",
       "    </tr>\n",
       "  </thead>\n",
       "  <tbody>\n",
       "    <tr>\n",
       "      <th>count</th>\n",
       "      <td>46232.000000</td>\n",
       "      <td>46232.000000</td>\n",
       "      <td>46232.000000</td>\n",
       "      <td>46232.000000</td>\n",
       "      <td>46232.000000</td>\n",
       "    </tr>\n",
       "    <tr>\n",
       "      <th>mean</th>\n",
       "      <td>18.285538</td>\n",
       "      <td>5.705507</td>\n",
       "      <td>24.487628</td>\n",
       "      <td>23334.861438</td>\n",
       "      <td>2003.812230</td>\n",
       "    </tr>\n",
       "    <tr>\n",
       "      <th>std</th>\n",
       "      <td>5.285563</td>\n",
       "      <td>1.773201</td>\n",
       "      <td>6.056269</td>\n",
       "      <td>13585.244761</td>\n",
       "      <td>12.329622</td>\n",
       "    </tr>\n",
       "    <tr>\n",
       "      <th>min</th>\n",
       "      <td>6.000000</td>\n",
       "      <td>2.000000</td>\n",
       "      <td>9.000000</td>\n",
       "      <td>1.000000</td>\n",
       "      <td>1984.000000</td>\n",
       "    </tr>\n",
       "    <tr>\n",
       "      <th>25%</th>\n",
       "      <td>15.000000</td>\n",
       "      <td>4.000000</td>\n",
       "      <td>20.000000</td>\n",
       "      <td>11558.750000</td>\n",
       "      <td>1992.000000</td>\n",
       "    </tr>\n",
       "    <tr>\n",
       "      <th>50%</th>\n",
       "      <td>17.000000</td>\n",
       "      <td>6.000000</td>\n",
       "      <td>24.000000</td>\n",
       "      <td>23279.500000</td>\n",
       "      <td>2005.000000</td>\n",
       "    </tr>\n",
       "    <tr>\n",
       "      <th>75%</th>\n",
       "      <td>21.000000</td>\n",
       "      <td>6.000000</td>\n",
       "      <td>28.000000</td>\n",
       "      <td>35073.250000</td>\n",
       "      <td>2015.000000</td>\n",
       "    </tr>\n",
       "    <tr>\n",
       "      <th>max</th>\n",
       "      <td>58.000000</td>\n",
       "      <td>16.000000</td>\n",
       "      <td>61.000000</td>\n",
       "      <td>47278.000000</td>\n",
       "      <td>2024.000000</td>\n",
       "    </tr>\n",
       "  </tbody>\n",
       "</table>\n",
       "</div>"
      ],
      "text/plain": [
       "             city08     cylinders     highway08            id          year\n",
       "count  46232.000000  46232.000000  46232.000000  46232.000000  46232.000000\n",
       "mean      18.285538      5.705507     24.487628  23334.861438   2003.812230\n",
       "std        5.285563      1.773201      6.056269  13585.244761     12.329622\n",
       "min        6.000000      2.000000      9.000000      1.000000   1984.000000\n",
       "25%       15.000000      4.000000     20.000000  11558.750000   1992.000000\n",
       "50%       17.000000      6.000000     24.000000  23279.500000   2005.000000\n",
       "75%       21.000000      6.000000     28.000000  35073.250000   2015.000000\n",
       "max       58.000000     16.000000     61.000000  47278.000000   2024.000000"
      ]
     },
     "execution_count": 11,
     "metadata": {},
     "output_type": "execute_result"
    }
   ],
   "source": [
    "# to find the summary statistics\n",
    "data.describe()"
   ]
  },
  {
   "cell_type": "markdown",
   "id": "39c470e5",
   "metadata": {},
   "source": [
    "# Step 6: Analysis and Visualization"
   ]
  },
  {
   "cell_type": "code",
   "execution_count": 12,
   "id": "a473aa2b",
   "metadata": {},
   "outputs": [
    {
     "data": {
      "text/plain": [
       "array(['Regular', 'Premium', 'Diesel', 'CNG', 'Gasoline or natural gas',\n",
       "       'Gasoline or E85', 'Gasoline or propane', 'Premium or E85',\n",
       "       'Midgrade', 'Premium Gas or Electricity',\n",
       "       'Regular Gas and Electricity', 'Premium and Electricity',\n",
       "       'Regular Gas or Electricity'], dtype=object)"
      ]
     },
     "execution_count": 12,
     "metadata": {},
     "output_type": "execute_result"
    }
   ],
   "source": [
    "# getting unique values in fueltype\n",
    "data[\"fuelType\"].unique()"
   ]
  },
  {
   "cell_type": "code",
   "execution_count": 13,
   "id": "ed46bde1",
   "metadata": {},
   "outputs": [
    {
     "data": {
      "text/plain": [
       "array(['Y', 'N'], dtype=object)"
      ]
     },
     "execution_count": 13,
     "metadata": {},
     "output_type": "execute_result"
    }
   ],
   "source": [
    "# getting unique values in mpgData\n",
    "data[\"mpgData\"].unique()"
   ]
  },
  {
   "cell_type": "code",
   "execution_count": 14,
   "id": "da9b017d",
   "metadata": {},
   "outputs": [
    {
     "data": {
      "text/html": [
       "<div>\n",
       "<style scoped>\n",
       "    .dataframe tbody tr th:only-of-type {\n",
       "        vertical-align: middle;\n",
       "    }\n",
       "\n",
       "    .dataframe tbody tr th {\n",
       "        vertical-align: top;\n",
       "    }\n",
       "\n",
       "    .dataframe thead th {\n",
       "        text-align: right;\n",
       "    }\n",
       "</style>\n",
       "<table border=\"1\" class=\"dataframe\">\n",
       "  <thead>\n",
       "    <tr style=\"text-align: right;\">\n",
       "      <th></th>\n",
       "      <th>city08</th>\n",
       "      <th>cylinders</th>\n",
       "      <th>fuelType</th>\n",
       "      <th>highway08</th>\n",
       "      <th>id</th>\n",
       "      <th>make</th>\n",
       "      <th>model</th>\n",
       "      <th>mpgData</th>\n",
       "      <th>trany</th>\n",
       "      <th>year</th>\n",
       "    </tr>\n",
       "  </thead>\n",
       "  <tbody>\n",
       "    <tr>\n",
       "      <th>36055</th>\n",
       "      <td>58</td>\n",
       "      <td>4.0</td>\n",
       "      <td>Regular</td>\n",
       "      <td>53</td>\n",
       "      <td>42810</td>\n",
       "      <td>Toyota</td>\n",
       "      <td>Prius Eco</td>\n",
       "      <td>N</td>\n",
       "      <td>Automatic (variable gear ratios)</td>\n",
       "      <td>2021</td>\n",
       "    </tr>\n",
       "    <tr>\n",
       "      <th>30817</th>\n",
       "      <td>58</td>\n",
       "      <td>4.0</td>\n",
       "      <td>Regular</td>\n",
       "      <td>53</td>\n",
       "      <td>38062</td>\n",
       "      <td>Toyota</td>\n",
       "      <td>Prius Eco</td>\n",
       "      <td>Y</td>\n",
       "      <td>Automatic (variable gear ratios)</td>\n",
       "      <td>2017</td>\n",
       "    </tr>\n",
       "    <tr>\n",
       "      <th>37510</th>\n",
       "      <td>58</td>\n",
       "      <td>4.0</td>\n",
       "      <td>Regular</td>\n",
       "      <td>60</td>\n",
       "      <td>44138</td>\n",
       "      <td>Hyundai</td>\n",
       "      <td>Ioniq Blue</td>\n",
       "      <td>N</td>\n",
       "      <td>Automatic (AM-S6)</td>\n",
       "      <td>2022</td>\n",
       "    </tr>\n",
       "    <tr>\n",
       "      <th>32693</th>\n",
       "      <td>58</td>\n",
       "      <td>4.0</td>\n",
       "      <td>Regular</td>\n",
       "      <td>53</td>\n",
       "      <td>39753</td>\n",
       "      <td>Toyota</td>\n",
       "      <td>Prius Eco</td>\n",
       "      <td>N</td>\n",
       "      <td>Automatic (variable gear ratios)</td>\n",
       "      <td>2018</td>\n",
       "    </tr>\n",
       "    <tr>\n",
       "      <th>36897</th>\n",
       "      <td>58</td>\n",
       "      <td>4.0</td>\n",
       "      <td>Regular</td>\n",
       "      <td>60</td>\n",
       "      <td>43571</td>\n",
       "      <td>Hyundai</td>\n",
       "      <td>Ioniq Blue</td>\n",
       "      <td>N</td>\n",
       "      <td>Automatic (AM-S6)</td>\n",
       "      <td>2021</td>\n",
       "    </tr>\n",
       "    <tr>\n",
       "      <th>...</th>\n",
       "      <td>...</td>\n",
       "      <td>...</td>\n",
       "      <td>...</td>\n",
       "      <td>...</td>\n",
       "      <td>...</td>\n",
       "      <td>...</td>\n",
       "      <td>...</td>\n",
       "      <td>...</td>\n",
       "      <td>...</td>\n",
       "      <td>...</td>\n",
       "    </tr>\n",
       "    <tr>\n",
       "      <th>42856</th>\n",
       "      <td>6</td>\n",
       "      <td>12.0</td>\n",
       "      <td>Premium</td>\n",
       "      <td>10</td>\n",
       "      <td>6413</td>\n",
       "      <td>Lamborghini</td>\n",
       "      <td>Countach</td>\n",
       "      <td>N</td>\n",
       "      <td>Manual 5-spd</td>\n",
       "      <td>1990</td>\n",
       "    </tr>\n",
       "    <tr>\n",
       "      <th>7901</th>\n",
       "      <td>6</td>\n",
       "      <td>12.0</td>\n",
       "      <td>Premium</td>\n",
       "      <td>10</td>\n",
       "      <td>1711</td>\n",
       "      <td>Lamborghini</td>\n",
       "      <td>Countach</td>\n",
       "      <td>N</td>\n",
       "      <td>Manual 5-spd</td>\n",
       "      <td>1986</td>\n",
       "    </tr>\n",
       "    <tr>\n",
       "      <th>21057</th>\n",
       "      <td>6</td>\n",
       "      <td>12.0</td>\n",
       "      <td>Premium</td>\n",
       "      <td>10</td>\n",
       "      <td>2914</td>\n",
       "      <td>Lamborghini</td>\n",
       "      <td>Countach</td>\n",
       "      <td>N</td>\n",
       "      <td>Manual 5-spd</td>\n",
       "      <td>1987</td>\n",
       "    </tr>\n",
       "    <tr>\n",
       "      <th>34522</th>\n",
       "      <td>6</td>\n",
       "      <td>12.0</td>\n",
       "      <td>Premium</td>\n",
       "      <td>10</td>\n",
       "      <td>4141</td>\n",
       "      <td>Lamborghini</td>\n",
       "      <td>Countach</td>\n",
       "      <td>N</td>\n",
       "      <td>Manual 5-spd</td>\n",
       "      <td>1988</td>\n",
       "    </tr>\n",
       "    <tr>\n",
       "      <th>41582</th>\n",
       "      <td>6</td>\n",
       "      <td>12.0</td>\n",
       "      <td>Premium</td>\n",
       "      <td>10</td>\n",
       "      <td>5267</td>\n",
       "      <td>Lamborghini</td>\n",
       "      <td>Countach</td>\n",
       "      <td>N</td>\n",
       "      <td>Manual 5-spd</td>\n",
       "      <td>1989</td>\n",
       "    </tr>\n",
       "  </tbody>\n",
       "</table>\n",
       "<p>46232 rows × 10 columns</p>\n",
       "</div>"
      ],
      "text/plain": [
       "       city08  cylinders fuelType  highway08     id         make       model  \\\n",
       "36055      58        4.0  Regular         53  42810       Toyota   Prius Eco   \n",
       "30817      58        4.0  Regular         53  38062       Toyota   Prius Eco   \n",
       "37510      58        4.0  Regular         60  44138      Hyundai  Ioniq Blue   \n",
       "32693      58        4.0  Regular         53  39753       Toyota   Prius Eco   \n",
       "36897      58        4.0  Regular         60  43571      Hyundai  Ioniq Blue   \n",
       "...       ...        ...      ...        ...    ...          ...         ...   \n",
       "42856       6       12.0  Premium         10   6413  Lamborghini    Countach   \n",
       "7901        6       12.0  Premium         10   1711  Lamborghini    Countach   \n",
       "21057       6       12.0  Premium         10   2914  Lamborghini    Countach   \n",
       "34522       6       12.0  Premium         10   4141  Lamborghini    Countach   \n",
       "41582       6       12.0  Premium         10   5267  Lamborghini    Countach   \n",
       "\n",
       "      mpgData                             trany  year  \n",
       "36055       N  Automatic (variable gear ratios)  2021  \n",
       "30817       Y  Automatic (variable gear ratios)  2017  \n",
       "37510       N                 Automatic (AM-S6)  2022  \n",
       "32693       N  Automatic (variable gear ratios)  2018  \n",
       "36897       N                 Automatic (AM-S6)  2021  \n",
       "...       ...                               ...   ...  \n",
       "42856       N                      Manual 5-spd  1990  \n",
       "7901        N                      Manual 5-spd  1986  \n",
       "21057       N                      Manual 5-spd  1987  \n",
       "34522       N                      Manual 5-spd  1988  \n",
       "41582       N                      Manual 5-spd  1989  \n",
       "\n",
       "[46232 rows x 10 columns]"
      ]
     },
     "execution_count": 14,
     "metadata": {},
     "output_type": "execute_result"
    }
   ],
   "source": [
    "# sorting city08\n",
    "data.sort_values(by = 'city08',ascending = False)"
   ]
  },
  {
   "cell_type": "code",
   "execution_count": 15,
   "id": "75273f0a",
   "metadata": {},
   "outputs": [
    {
     "data": {
      "text/html": [
       "<div>\n",
       "<style scoped>\n",
       "    .dataframe tbody tr th:only-of-type {\n",
       "        vertical-align: middle;\n",
       "    }\n",
       "\n",
       "    .dataframe tbody tr th {\n",
       "        vertical-align: top;\n",
       "    }\n",
       "\n",
       "    .dataframe thead th {\n",
       "        text-align: right;\n",
       "    }\n",
       "</style>\n",
       "<table border=\"1\" class=\"dataframe\">\n",
       "  <thead>\n",
       "    <tr style=\"text-align: right;\">\n",
       "      <th></th>\n",
       "      <th>city08</th>\n",
       "      <th>highway08</th>\n",
       "    </tr>\n",
       "  </thead>\n",
       "  <tbody>\n",
       "    <tr>\n",
       "      <th>7901</th>\n",
       "      <td>6</td>\n",
       "      <td>10</td>\n",
       "    </tr>\n",
       "    <tr>\n",
       "      <th>21057</th>\n",
       "      <td>6</td>\n",
       "      <td>10</td>\n",
       "    </tr>\n",
       "    <tr>\n",
       "      <th>34522</th>\n",
       "      <td>6</td>\n",
       "      <td>10</td>\n",
       "    </tr>\n",
       "    <tr>\n",
       "      <th>41582</th>\n",
       "      <td>6</td>\n",
       "      <td>10</td>\n",
       "    </tr>\n",
       "    <tr>\n",
       "      <th>42856</th>\n",
       "      <td>6</td>\n",
       "      <td>10</td>\n",
       "    </tr>\n",
       "    <tr>\n",
       "      <th>...</th>\n",
       "      <td>...</td>\n",
       "      <td>...</td>\n",
       "    </tr>\n",
       "    <tr>\n",
       "      <th>35083</th>\n",
       "      <td>58</td>\n",
       "      <td>53</td>\n",
       "    </tr>\n",
       "    <tr>\n",
       "      <th>36055</th>\n",
       "      <td>58</td>\n",
       "      <td>53</td>\n",
       "    </tr>\n",
       "    <tr>\n",
       "      <th>37447</th>\n",
       "      <td>58</td>\n",
       "      <td>53</td>\n",
       "    </tr>\n",
       "    <tr>\n",
       "      <th>36897</th>\n",
       "      <td>58</td>\n",
       "      <td>60</td>\n",
       "    </tr>\n",
       "    <tr>\n",
       "      <th>37510</th>\n",
       "      <td>58</td>\n",
       "      <td>60</td>\n",
       "    </tr>\n",
       "  </tbody>\n",
       "</table>\n",
       "<p>46232 rows × 2 columns</p>\n",
       "</div>"
      ],
      "text/plain": [
       "       city08  highway08\n",
       "7901        6         10\n",
       "21057       6         10\n",
       "34522       6         10\n",
       "41582       6         10\n",
       "42856       6         10\n",
       "...       ...        ...\n",
       "35083      58         53\n",
       "36055      58         53\n",
       "37447      58         53\n",
       "36897      58         60\n",
       "37510      58         60\n",
       "\n",
       "[46232 rows x 2 columns]"
      ]
     },
     "execution_count": 15,
     "metadata": {},
     "output_type": "execute_result"
    }
   ],
   "source": [
    "#sorting three columns\n",
    "data.sort_values(by =['city08','highway08'])[['city08','highway08']]"
   ]
  },
  {
   "cell_type": "code",
   "execution_count": 25,
   "id": "9afff29e",
   "metadata": {},
   "outputs": [
    {
     "data": {
      "text/plain": [
       "(2358, 10)"
      ]
     },
     "execution_count": 25,
     "metadata": {},
     "output_type": "execute_result"
    }
   ],
   "source": [
    "# 1.cars mf by toyota\n",
    "toyota_cars = data[data['make'] == 'Toyota']\n",
    "toyota_cars.shape"
   ]
  },
  {
   "cell_type": "code",
   "execution_count": 28,
   "id": "19c94891",
   "metadata": {},
   "outputs": [
    {
     "data": {
      "text/plain": [
       "city08                 49\n",
       "cylinders             3.0\n",
       "fuelType          Regular\n",
       "highway08              61\n",
       "id                  15606\n",
       "make                Honda\n",
       "model             Insight\n",
       "mpgData                 Y\n",
       "trany        Manual 5-spd\n",
       "year                 2000\n",
       "Name: 6230, dtype: object"
      ]
     },
     "execution_count": 28,
     "metadata": {},
     "output_type": "execute_result"
    }
   ],
   "source": [
    "# 2.Finding the car with the highest highway mileage\n",
    "max_highway_mpg_car = data.loc[data['highway08'].idxmax()]\n",
    "max_highway_mpg_car"
   ]
  },
  {
   "cell_type": "code",
   "execution_count": 30,
   "id": "f2f606de",
   "metadata": {},
   "outputs": [
    {
     "data": {
      "text/html": [
       "<div>\n",
       "<style scoped>\n",
       "    .dataframe tbody tr th:only-of-type {\n",
       "        vertical-align: middle;\n",
       "    }\n",
       "\n",
       "    .dataframe tbody tr th {\n",
       "        vertical-align: top;\n",
       "    }\n",
       "\n",
       "    .dataframe thead th {\n",
       "        text-align: right;\n",
       "    }\n",
       "</style>\n",
       "<table border=\"1\" class=\"dataframe\">\n",
       "  <thead>\n",
       "    <tr style=\"text-align: right;\">\n",
       "      <th></th>\n",
       "      <th>city08</th>\n",
       "      <th>cylinders</th>\n",
       "      <th>fuelType</th>\n",
       "      <th>highway08</th>\n",
       "      <th>id</th>\n",
       "      <th>make</th>\n",
       "      <th>model</th>\n",
       "      <th>mpgData</th>\n",
       "      <th>trany</th>\n",
       "      <th>year</th>\n",
       "    </tr>\n",
       "  </thead>\n",
       "  <tbody>\n",
       "    <tr>\n",
       "      <th>6230</th>\n",
       "      <td>49</td>\n",
       "      <td>3.0</td>\n",
       "      <td>Regular</td>\n",
       "      <td>61</td>\n",
       "      <td>15606</td>\n",
       "      <td>Honda</td>\n",
       "      <td>Insight</td>\n",
       "      <td>Y</td>\n",
       "      <td>Manual 5-spd</td>\n",
       "      <td>2000</td>\n",
       "    </tr>\n",
       "    <tr>\n",
       "      <th>7164</th>\n",
       "      <td>48</td>\n",
       "      <td>3.0</td>\n",
       "      <td>Regular</td>\n",
       "      <td>60</td>\n",
       "      <td>16447</td>\n",
       "      <td>Honda</td>\n",
       "      <td>Insight</td>\n",
       "      <td>Y</td>\n",
       "      <td>Manual 5-spd</td>\n",
       "      <td>2001</td>\n",
       "    </tr>\n",
       "    <tr>\n",
       "      <th>36897</th>\n",
       "      <td>58</td>\n",
       "      <td>4.0</td>\n",
       "      <td>Regular</td>\n",
       "      <td>60</td>\n",
       "      <td>43571</td>\n",
       "      <td>Hyundai</td>\n",
       "      <td>Ioniq Blue</td>\n",
       "      <td>N</td>\n",
       "      <td>Automatic (AM-S6)</td>\n",
       "      <td>2021</td>\n",
       "    </tr>\n",
       "    <tr>\n",
       "      <th>37510</th>\n",
       "      <td>58</td>\n",
       "      <td>4.0</td>\n",
       "      <td>Regular</td>\n",
       "      <td>60</td>\n",
       "      <td>44138</td>\n",
       "      <td>Hyundai</td>\n",
       "      <td>Ioniq Blue</td>\n",
       "      <td>N</td>\n",
       "      <td>Automatic (AM-S6)</td>\n",
       "      <td>2022</td>\n",
       "    </tr>\n",
       "    <tr>\n",
       "      <th>35439</th>\n",
       "      <td>57</td>\n",
       "      <td>4.0</td>\n",
       "      <td>Regular</td>\n",
       "      <td>59</td>\n",
       "      <td>42243</td>\n",
       "      <td>Hyundai</td>\n",
       "      <td>Ioniq Blue</td>\n",
       "      <td>Y</td>\n",
       "      <td>Automatic (AM6)</td>\n",
       "      <td>2020</td>\n",
       "    </tr>\n",
       "    <tr>\n",
       "      <th>...</th>\n",
       "      <td>...</td>\n",
       "      <td>...</td>\n",
       "      <td>...</td>\n",
       "      <td>...</td>\n",
       "      <td>...</td>\n",
       "      <td>...</td>\n",
       "      <td>...</td>\n",
       "      <td>...</td>\n",
       "      <td>...</td>\n",
       "      <td>...</td>\n",
       "    </tr>\n",
       "    <tr>\n",
       "      <th>26867</th>\n",
       "      <td>8</td>\n",
       "      <td>8.0</td>\n",
       "      <td>Regular</td>\n",
       "      <td>9</td>\n",
       "      <td>3447</td>\n",
       "      <td>Rolls-Royce</td>\n",
       "      <td>Silver Spirit/Silver Spur</td>\n",
       "      <td>N</td>\n",
       "      <td>Automatic 3-spd</td>\n",
       "      <td>1987</td>\n",
       "    </tr>\n",
       "    <tr>\n",
       "      <th>25346</th>\n",
       "      <td>7</td>\n",
       "      <td>8.0</td>\n",
       "      <td>Regular</td>\n",
       "      <td>9</td>\n",
       "      <td>3308</td>\n",
       "      <td>Rolls-Royce</td>\n",
       "      <td>Camargue</td>\n",
       "      <td>N</td>\n",
       "      <td>Automatic 3-spd</td>\n",
       "      <td>1987</td>\n",
       "    </tr>\n",
       "    <tr>\n",
       "      <th>23221</th>\n",
       "      <td>7</td>\n",
       "      <td>8.0</td>\n",
       "      <td>Regular</td>\n",
       "      <td>9</td>\n",
       "      <td>3115</td>\n",
       "      <td>Rolls-Royce</td>\n",
       "      <td>Corniche II</td>\n",
       "      <td>N</td>\n",
       "      <td>Automatic 3-spd</td>\n",
       "      <td>1987</td>\n",
       "    </tr>\n",
       "    <tr>\n",
       "      <th>40670</th>\n",
       "      <td>7</td>\n",
       "      <td>8.0</td>\n",
       "      <td>Regular</td>\n",
       "      <td>9</td>\n",
       "      <td>47</td>\n",
       "      <td>Aston Martin</td>\n",
       "      <td>Lagonda</td>\n",
       "      <td>N</td>\n",
       "      <td>Automatic 3-spd</td>\n",
       "      <td>1985</td>\n",
       "    </tr>\n",
       "    <tr>\n",
       "      <th>13641</th>\n",
       "      <td>7</td>\n",
       "      <td>8.0</td>\n",
       "      <td>Regular</td>\n",
       "      <td>9</td>\n",
       "      <td>2228</td>\n",
       "      <td>Rolls-Royce</td>\n",
       "      <td>Silver Spur Limousine</td>\n",
       "      <td>N</td>\n",
       "      <td>Automatic 3-spd</td>\n",
       "      <td>1986</td>\n",
       "    </tr>\n",
       "  </tbody>\n",
       "</table>\n",
       "<p>46232 rows × 10 columns</p>\n",
       "</div>"
      ],
      "text/plain": [
       "       city08  cylinders fuelType  highway08     id          make  \\\n",
       "6230       49        3.0  Regular         61  15606         Honda   \n",
       "7164       48        3.0  Regular         60  16447         Honda   \n",
       "36897      58        4.0  Regular         60  43571       Hyundai   \n",
       "37510      58        4.0  Regular         60  44138       Hyundai   \n",
       "35439      57        4.0  Regular         59  42243       Hyundai   \n",
       "...       ...        ...      ...        ...    ...           ...   \n",
       "26867       8        8.0  Regular          9   3447   Rolls-Royce   \n",
       "25346       7        8.0  Regular          9   3308   Rolls-Royce   \n",
       "23221       7        8.0  Regular          9   3115   Rolls-Royce   \n",
       "40670       7        8.0  Regular          9     47  Aston Martin   \n",
       "13641       7        8.0  Regular          9   2228   Rolls-Royce   \n",
       "\n",
       "                           model mpgData              trany  year  \n",
       "6230                     Insight       Y       Manual 5-spd  2000  \n",
       "7164                     Insight       Y       Manual 5-spd  2001  \n",
       "36897                 Ioniq Blue       N  Automatic (AM-S6)  2021  \n",
       "37510                 Ioniq Blue       N  Automatic (AM-S6)  2022  \n",
       "35439                 Ioniq Blue       Y    Automatic (AM6)  2020  \n",
       "...                          ...     ...                ...   ...  \n",
       "26867  Silver Spirit/Silver Spur       N    Automatic 3-spd  1987  \n",
       "25346                   Camargue       N    Automatic 3-spd  1987  \n",
       "23221                Corniche II       N    Automatic 3-spd  1987  \n",
       "40670                    Lagonda       N    Automatic 3-spd  1985  \n",
       "13641      Silver Spur Limousine       N    Automatic 3-spd  1986  \n",
       "\n",
       "[46232 rows x 10 columns]"
      ]
     },
     "execution_count": 30,
     "metadata": {},
     "output_type": "execute_result"
    }
   ],
   "source": [
    "# Sorting data based on 'highway08' mileage\n",
    "sorted_by_highway_mpg = data.sort_values(by='highway08', ascending=False)\n",
    "sorted_by_highway_mpg"
   ]
  },
  {
   "cell_type": "code",
   "execution_count": 33,
   "id": "8055331d",
   "metadata": {},
   "outputs": [
    {
     "data": {
      "image/png": "[encoded data removed]",
      "text/plain": [
       "<Figure size 576x432 with 1 Axes>"
      ]
     },
     "metadata": {
      "needs_background": "light"
     },
     "output_type": "display_data"
    }
   ],
   "source": [
    "# 3.Highway MPG by Number of Cylinders\n",
    "plt.figure(figsize=(8, 6))\n",
    "plt.boxplot([data[data['cylinders'] == cyl]['highway08'] for cyl in data['cylinders'].unique()],\n",
    "            labels=data['cylinders'].unique())\n",
    "plt.title('Highway MPG by Number of Cylinders')\n",
    "plt.xlabel('Cylinders')\n",
    "plt.ylabel('Highway MPG')\n",
    "plt.show()"
   ]
  },
  {
   "cell_type": "code",
   "execution_count": 16,
   "id": "eed787da",
   "metadata": {},
   "outputs": [
    {
     "data": {
      "image/png": "[encoded data removed]",
      "text/plain": [
       "<Figure size 720x432 with 1 Axes>"
      ]
     },
     "metadata": {
      "needs_background": "light"
     },
     "output_type": "display_data"
    }
   ],
   "source": [
    "# 4.Plotting a bar graph for fuel type distribution with data labels\n",
    "\n",
    "fuel_type_counts = data['fuelType'].value_counts()\n",
    "plt.figure(figsize=(10, 6))\n",
    "bar_plot = fuel_type_counts.plot(kind='bar', color='skyblue')\n",
    "\n",
    "for i, count in enumerate(fuel_type_counts):\n",
    "    plt.text(i, count + 0.1, str(count), ha='center', va='bottom')\n",
    "\n",
    "plt.title('Distribution of Vehicles by Fuel Type')\n",
    "plt.xlabel('Fuel Type')\n",
    "plt.ylabel('Number of Vehicles')\n",
    "plt.xticks(rotation=45, ha='right') \n",
    "plt.show()"
   ]
  },
  {
   "cell_type": "code",
   "execution_count": 17,
   "id": "4f6cd177",
   "metadata": {},
   "outputs": [
    {
     "data": {
      "image/png": "[encoded data removed]",
      "text/plain": [
       "<Figure size 720x432 with 1 Axes>"
      ]
     },
     "metadata": {
      "needs_background": "light"
     },
     "output_type": "display_data"
    }
   ],
   "source": [
    "# 5.Plotting a histogram for the distribution of cylinders\n",
    "plt.figure(figsize=(10, 6))\n",
    "plt.hist(data['cylinders'], bins='auto', edgecolor='black')\n",
    "plt.title('Distribution of Cylinders in Vehicles')\n",
    "plt.xlabel('Number of Cylinders')\n",
    "plt.ylabel('Frequency')\n",
    "plt.grid(True)\n",
    "plt.show()"
   ]
  },
  {
   "cell_type": "code",
   "execution_count": 18,
   "id": "902d8ce6",
   "metadata": {},
   "outputs": [
    {
     "data": {
      "image/png": "[encoded data removed]",
      "text/plain": [
       "<Figure size 720x432 with 1 Axes>"
      ]
     },
     "metadata": {
      "needs_background": "light"
     },
     "output_type": "display_data"
    }
   ],
   "source": [
    "# 6.Plotting a bar chart for average city MPG based on the number of cylinders\n",
    "\n",
    "data_filtered = data[data['mpgData'] == 'Y']\n",
    "avg_city_mpg_by_cylinders = data_filtered.groupby('cylinders')['city08'].mean()\n",
    "\n",
    "plt.figure(figsize=(10, 6))\n",
    "avg_city_mpg_by_cylinders.plot(kind='bar', color='skyblue')\n",
    "plt.title('Average City MPG vs. Number of Cylinders (MPG Data: Y)')\n",
    "plt.xlabel('Number of Cylinders')\n",
    "plt.ylabel('Average City MPG')\n",
    "plt.xticks(rotation=0)\n",
    "plt.show()"
   ]
  },
  {
   "cell_type": "code",
   "execution_count": 19,
   "id": "bd214847",
   "metadata": {},
   "outputs": [
    {
     "data": {
      "image/png": "[encoded data removed]",
      "text/plain": [
       "<Figure size 720x432 with 1 Axes>"
      ]
     },
     "metadata": {
      "needs_background": "light"
     },
     "output_type": "display_data"
    }
   ],
   "source": [
    "# 7.Distribution of Vehicles by Cylinders\n",
    "\n",
    "cylinder_distribution = data['cylinders'].value_counts()\n",
    "\n",
    "plt.figure(figsize=(10, 6))\n",
    "bar_plot = cylinder_distribution.plot(kind='bar', color='skyblue')\n",
    "\n",
    "for i, count in enumerate(cylinder_distribution):\n",
    "    plt.text(i, count + 0.1, str(count), ha='center', va='bottom')\n",
    "\n",
    "plt.title('Distribution of Vehicles by Cylinders')\n",
    "plt.xlabel('Number of Cylinders')\n",
    "plt.ylabel('Number of Vehicles')\n",
    "plt.xticks(rotation=0) \n",
    "\n",
    "plt.show()\n"
   ]
  },
  {
   "cell_type": "code",
   "execution_count": 22,
   "id": "7072e8f2",
   "metadata": {},
   "outputs": [
    {
     "data": {
      "image/png": "[encoded data removed]",
      "text/plain": [
       "<Figure size 576x360 with 1 Axes>"
      ]
     },
     "metadata": {
      "needs_background": "light"
     },
     "output_type": "display_data"
    }
   ],
   "source": [
    "# 8.Distribution of Vehicles by MPG Condition\n",
    "\n",
    "mpg_condition_distribution = data['mpgData'].value_counts()\n",
    "\n",
    "plt.figure(figsize=(8, 5))\n",
    "bar_plot = mpg_condition_distribution.plot(kind='bar', color=['skyblue', 'lightcoral'])\n",
    "\n",
    "for i, count in enumerate(mpg_condition_distribution):\n",
    "    plt.text(i, count + 0.1, str(count), ha='center', va='bottom')\n",
    "\n",
    "plt.title('Distribution of Vehicles by MPG Condition')\n",
    "plt.xlabel('MPG Condition')\n",
    "plt.ylabel('Number of Vehicles')\n",
    "plt.xticks(rotation=0, ha='center')\n",
    "plt.show()\n",
    "\n"
   ]
  },
  {
   "cell_type": "code",
   "execution_count": 20,
   "id": "e88187a5",
   "metadata": {},
   "outputs": [
    {
     "data": {
      "image/png": "[encoded data removed]",
      "text/plain": [
       "<Figure size 576x432 with 2 Axes>"
      ]
     },
     "metadata": {
      "needs_background": "light"
     },
     "output_type": "display_data"
    }
   ],
   "source": [
    "# 9.finding correlation:\n",
    "\n",
    "correlation_matrix = data[['cylinders', 'city08', 'highway08']].corr()\n",
    "\n",
    "plt.figure(figsize=(8, 6))\n",
    "sns.heatmap(correlation_matrix, annot=True, cmap='coolwarm', fmt=\".2f\", linewidths=.5)\n",
    "plt.title('Correlation Heatmap')\n",
    "plt.show()\n"
   ]
  },
  {
   "cell_type": "code",
   "execution_count": 37,
   "id": "4f387271",
   "metadata": {},
   "outputs": [
    {
     "data": {
      "image/png": "[encoded data removed]",
      "text/plain": [
       "<Figure size 432x288 with 1 Axes>"
      ]
     },
     "metadata": {
      "needs_background": "light"
     },
     "output_type": "display_data"
    }
   ],
   "source": [
    "# 10.plotting ECDF\n",
    "x = np.sort(data['cylinders'])\n",
    "y = np.arange(1, len(x)+1)/len(x)\n",
    "g = plt.plot(x,y,marker='.', linestyle='none')\n",
    "g = plt.xlabel(\"cylinders\")\n",
    "g = plt.ylabel(\"city08\")\n",
    "plt.margins(0.02)\n",
    "plt.show()"
   ]
  }
 ],
 "metadata": {
  "kernelspec": {
   "display_name": "Python 3 (ipykernel)",
   "language": "python",
   "name": "python3"
  },
  "language_info": {
   "codemirror_mode": {
    "name": "ipython",
    "version": 3
   },
   "file_extension": ".py",
   "mimetype": "text/x-python",
   "name": "python",
   "nbconvert_exporter": "python",
   "pygments_lexer": "ipython3",
   "version": "3.9.7"
  }
 },
 "nbformat": 4,
 "nbformat_minor": 5
}
